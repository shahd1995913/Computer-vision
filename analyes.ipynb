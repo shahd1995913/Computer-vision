{
  "nbformat": 4,
  "nbformat_minor": 0,
  "metadata": {
    "colab": {
      "private_outputs": true,
      "provenance": [],
      "authorship_tag": "ABX9TyOzlZlXduReoFd+xuCa3bv7",
      "include_colab_link": true
    },
    "kernelspec": {
      "name": "python3",
      "display_name": "Python 3"
    },
    "language_info": {
      "name": "python"
    }
  },
  "cells": [
    {
      "cell_type": "markdown",
      "metadata": {
        "id": "view-in-github",
        "colab_type": "text"
      },
      "source": [
        "<a href=\"https://colab.research.google.com/github/shahd1995913/Computer-vision/blob/main/analyes.ipynb\" target=\"_parent\"><img src=\"https://colab.research.google.com/assets/colab-badge.svg\" alt=\"Open In Colab\"/></a>"
      ]
    },
    {
      "cell_type": "code",
      "execution_count": null,
      "metadata": {
        "id": "NDICHxNuCegE"
      },
      "outputs": [],
      "source": [
        "import pandas as pd\n",
        "import matplotlib.pyplot as plt\n",
        "\n",
        "# Data provided\n",
        "data = {\n",
        "    'Crop': ['Lemons', 'Oranges, local', 'Oranges, navel', 'Oranges, red', 'Oranges, valencia', 'Oranges, french', 'Oranges, shamouti', 'Clementines', 'Mandarins', 'Grapefruits', 'Medn. mandarins', 'Pummelors', 'Olives', 'Grapes', 'Figs', 'Almonds', 'Peaches', 'Plums, prunes', 'Apricots', 'Apples', 'Pomegrantes', 'Pears', 'Guava', 'Dates', 'Bananas', 'Others', 'Nectarines'],\n",
        "    'Area (Dunum)': [24556.6, 2667.5, 12728.1, 3920.8, 1916.8, 1716.2, 3174.8, 10585.5, 3845.8, 1389.1, 97.5, 3030.5, 575174.9, 32092.1, 1390.1, 3747.4, 28269.7, 2915.5, 16626.7, 8436.0, 9931.0, 2007.9, 4205.4, 43999.2, 8992.6, 6265.4,  10040.4],\n",
        "    'Number of Trees': [865472, 82761, 443305, 129535, 62900, 58682, 104635, 342954, 123247, 45414, 2585, 108808, 10866548, 3554937, 29883, 97525, 1484716, 125298, 822957, 746129, 482498, 89264, 173997, 697937, 984311, 677564,  525233],\n",
        "    'Number of Bearing Trees': [504457, 71033, 321286, 126385, 60835, 33945, 90970, 310600, 116837, 44615, 2585, 64620, 9072862, 2531516, 27737, 73251, 1343947, 101090, 659226, 592450, 327593, 77148, 131299, 357976, 748460, 247286,  472578],\n",
        "    'Production (M.T.)': [35716.5, 4864.1, 24334.4, 11869.6, 3714.9, 1990.4, 4567.1, 20347.6, 7566.9, 2597.2, 151.8, 4105.6, 162661.1, 46103.2, 1282.2, 1848.2, 70210.4, 4735.2, 18955.3, 15663.9, 13271.6, 1667.6, 4733.9, 29526.9, 45246.4, 7956.5, 28312.9]\n",
        "}\n",
        "\n",
        "# Creating DataFrame\n",
        "df = pd.DataFrame(data)\n",
        "\n",
        "# Displaying DataFrame\n",
        "print(df)\n"
      ]
    },
    {
      "cell_type": "code",
      "source": [
        "sorted_df = df.sort_values(by='Area (Dunum)', ascending=False)"
      ],
      "metadata": {
        "id": "lP-X6b9lFbWZ"
      },
      "execution_count": null,
      "outputs": []
    },
    {
      "cell_type": "code",
      "source": [
        "# Creating DataFrame\n",
        "df = pd.DataFrame(data)\n",
        "\n",
        "# Plotting the area of different crops sorted from largest to smallest\n",
        "plt.figure(figsize=(10, 6))\n",
        "df_sorted_area = df.sort_values(by='Area (Dunum)', ascending=False)\n",
        "plt.barh(df_sorted_area['Crop'], df_sorted_area['Area (Dunum)'], color='skyblue')\n",
        "plt.xlabel('Area (Dunum)')\n",
        "plt.ylabel('Crop')\n",
        "plt.title('Area of Fruit Trees in (Jordan) - 2022 (Largest to Smallest)')\n",
        "plt.show()\n",
        "\n",
        "# Plotting the production of different crops sorted from largest to smallest\n",
        "plt.figure(figsize=(10, 6))\n",
        "df_sorted_production = df.sort_values(by='Production (M.T.)', ascending=False)\n",
        "plt.barh(df_sorted_production['Crop'], df_sorted_production['Production (M.T.)'], color='lightgreen')\n",
        "plt.xlabel('Production (M.T.)')\n",
        "plt.ylabel('Crop')\n",
        "plt.title('Production of Fruit Trees in (Jordan) - 2022 (Largest to Smallest)')\n",
        "plt.show()\n",
        "\n"
      ],
      "metadata": {
        "id": "a9RKsqHaF9Yw"
      },
      "execution_count": null,
      "outputs": []
    }
  ]
}